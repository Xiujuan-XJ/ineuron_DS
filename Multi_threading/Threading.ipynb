{
 "cells": [
  {
   "cell_type": "code",
   "execution_count": 3,
   "metadata": {},
   "outputs": [],
   "source": [
    "import threading"
   ]
  },
  {
   "cell_type": "code",
   "execution_count": 4,
   "metadata": {},
   "outputs": [],
   "source": [
    "def test(id):\n",
    "    print('this is my test id %d'%id)"
   ]
  },
  {
   "cell_type": "code",
   "execution_count": 5,
   "metadata": {},
   "outputs": [
    {
     "data": {
      "text/plain": [
       "<function __main__.test(id)>"
      ]
     },
     "execution_count": 5,
     "metadata": {},
     "output_type": "execute_result"
    }
   ],
   "source": [
    "test"
   ]
  },
  {
   "cell_type": "code",
   "execution_count": 6,
   "metadata": {},
   "outputs": [
    {
     "name": "stdout",
     "output_type": "stream",
     "text": [
      "this is my test id 10\n"
     ]
    }
   ],
   "source": [
    "test(10)"
   ]
  },
  {
   "cell_type": "code",
   "execution_count": 7,
   "metadata": {},
   "outputs": [
    {
     "name": "stdout",
     "output_type": "stream",
     "text": [
      "this is my test id 1\n"
     ]
    }
   ],
   "source": [
    "test(1)"
   ]
  },
  {
   "cell_type": "code",
   "execution_count": 8,
   "metadata": {},
   "outputs": [],
   "source": [
    "#what if I want to call these3 functions tgt, compose them into a thread object\n",
    "thred=[threading.Thread(target=test,args=(i,)) for i in [10,1,3]]"
   ]
  },
  {
   "cell_type": "code",
   "execution_count": 9,
   "metadata": {},
   "outputs": [
    {
     "data": {
      "text/plain": [
       "[<Thread(Thread-4, initial)>,\n",
       " <Thread(Thread-5, initial)>,\n",
       " <Thread(Thread-6, initial)>]"
      ]
     },
     "execution_count": 9,
     "metadata": {},
     "output_type": "execute_result"
    }
   ],
   "source": [
    "thred #look at the objective"
   ]
  },
  {
   "cell_type": "code",
   "execution_count": 10,
   "metadata": {},
   "outputs": [
    {
     "name": "stdout",
     "output_type": "stream",
     "text": [
      "this is my test id 10\n",
      "this is my test id 1\n",
      "this is my test id 3\n"
     ]
    }
   ],
   "source": [
    "for t in thred:\n",
    "    t.start() #thred only can be used once\n"
   ]
  },
  {
   "cell_type": "code",
   "execution_count": 11,
   "metadata": {},
   "outputs": [],
   "source": [
    "#fetfch data from multiple urls, and store data into local\n",
    "import urllib.request\n",
    "\n",
    "def file_download(url,filename):\n",
    "    urllib.request.urlretrieve(url,filename)\n",
    "    "
   ]
  },
  {
   "cell_type": "code",
   "execution_count": 12,
   "metadata": {},
   "outputs": [],
   "source": [
    "file_download('https://raw.githubusercontent.com/itsfoss/text-files/master/agatha.txt' , \"test1.txt\")"
   ]
  },
  {
   "cell_type": "code",
   "execution_count": 13,
   "metadata": {},
   "outputs": [],
   "source": [
    "# do multi threading so can fetch data from 3 urls at 1 shot\n",
    "url_list = ['https://raw.githubusercontent.com/itsfoss/text-files/master/agatha.txt' ,\n",
    "            'https://raw.githubusercontent.com/itsfoss/text-files/master/sherlock.txt' ,\n",
    "            'https://raw.githubusercontent.com/itsfoss/text-files/master/sample_log_file.txt' ]"
   ]
  },
  {
   "cell_type": "code",
   "execution_count": 14,
   "metadata": {},
   "outputs": [
    {
     "data": {
      "text/plain": [
       "['https://raw.githubusercontent.com/itsfoss/text-files/master/agatha.txt',\n",
       " 'https://raw.githubusercontent.com/itsfoss/text-files/master/sherlock.txt',\n",
       " 'https://raw.githubusercontent.com/itsfoss/text-files/master/sample_log_file.txt']"
      ]
     },
     "execution_count": 14,
     "metadata": {},
     "output_type": "execute_result"
    }
   ],
   "source": [
    "url_list"
   ]
  },
  {
   "cell_type": "code",
   "execution_count": 15,
   "metadata": {},
   "outputs": [],
   "source": [
    "data_file_list=['data1.txt','data2.txt','data3.txt']"
   ]
  },
  {
   "cell_type": "code",
   "execution_count": 16,
   "metadata": {},
   "outputs": [],
   "source": [
    "# use threading concept here, put this into 1 object\n",
    "#target-> function\n",
    "#args --> argument , but need to input 1 by 1\n",
    "thread1=[threading.Thread(target=file_download,args=(url_list[i],data_file_list[i])) for i in range(len(url_list))]"
   ]
  },
  {
   "cell_type": "code",
   "execution_count": 18,
   "metadata": {},
   "outputs": [],
   "source": [
    "for t in thread1:\n",
    "    t.start()"
   ]
  },
  {
   "cell_type": "code",
   "execution_count": 19,
   "metadata": {},
   "outputs": [
    {
     "data": {
      "text/plain": [
       "[<Thread(Thread-69, stopped 13183381504)>,\n",
       " <Thread(Thread-70, stopped 13200171008)>,\n",
       " <Thread(Thread-71, stopped 13216960512)>]"
      ]
     },
     "execution_count": 19,
     "metadata": {},
     "output_type": "execute_result"
    }
   ],
   "source": [
    "thread1"
   ]
  },
  {
   "cell_type": "code",
   "execution_count": 28,
   "metadata": {},
   "outputs": [],
   "source": [
    "#\n",
    "import time\n",
    "def test2(x):\n",
    "    for i in range(10):\n",
    "        print('test1 print the value of x %d and print the value of i %d'%(x,i))\n",
    "        #time.sleep(1)"
   ]
  },
  {
   "cell_type": "code",
   "execution_count": 29,
   "metadata": {},
   "outputs": [
    {
     "name": "stdout",
     "output_type": "stream",
     "text": [
      "test1 print the value of x 10 and print the value of i 0\n",
      "test1 print the value of x 10 and print the value of i 1\n",
      "test1 print the value of x 10 and print the value of i 2\n",
      "test1 print the value of x 10 and print the value of i 3\n",
      "test1 print the value of x 10 and print the value of i 4\n",
      "test1 print the value of x 10 and print the value of i 5\n",
      "test1 print the value of x 10 and print the value of i 6\n",
      "test1 print the value of x 10 and print the value of i 7\n",
      "test1 print the value of x 10 and print the value of i 8\n",
      "test1 print the value of x 10 and print the value of i 9\n"
     ]
    }
   ],
   "source": [
    "test2(10)"
   ]
  },
  {
   "cell_type": "code",
   "execution_count": 30,
   "metadata": {},
   "outputs": [
    {
     "data": {
      "text/plain": [
       "[<Thread(Thread-169, initial)>,\n",
       " <Thread(Thread-170, initial)>,\n",
       " <Thread(Thread-171, initial)>,\n",
       " <Thread(Thread-172, initial)>]"
      ]
     },
     "execution_count": 30,
     "metadata": {},
     "output_type": "execute_result"
    }
   ],
   "source": [
    "thread2=[threading.Thread(target=test2,args=(i,))for i in [100,10,20,5] ]\n",
    "thread2"
   ]
  },
  {
   "cell_type": "code",
   "execution_count": 31,
   "metadata": {},
   "outputs": [
    {
     "name": "stdout",
     "output_type": "stream",
     "text": [
      "test1 print the value of x 100 and print the value of i 0\n",
      "test1 print the value of x 100 and print the value of i 1\n",
      "test1 print the value of x 100 and print the value of i 2\n",
      "test1 print the value of x 100 and print the value of i 3\n",
      "test1 print the value of x 100 and print the value of i 4\n",
      "test1 print the value of x 100 and print the value of i 5\n",
      "test1 print the value of x 100 and print the value of i 6\n",
      "test1 print the value of x 100 and print the value of i 7\n",
      "test1 print the value of x 100 and print the value of i 8\n",
      "test1 print the value of x 100 and print the value of i 9\n",
      "test1 print the value of x 10 and print the value of i 0\n",
      "test1 print the value of x 10 and print the value of i 1\n",
      "test1 print the value of x 10 and print the value of i 2\n",
      "test1 print the value of x 10 and print the value of i 3\n",
      "test1 print the value of x 10 and print the value of i 4\n",
      "test1 print the value of x 10 and print the value of i 5\n",
      "test1 print the value of x 10 and print the value of i 6\n",
      "test1 print the value of x 10 and print the value of i 7\n",
      "test1 print the value of x 10 and print the value of i 8\n",
      "test1 print the value of x 10 and print the value of i 9\n",
      "test1 print the value of x 20 and print the value of i 0\n",
      "test1 print the value of x 20 and print the value of i 1\n",
      "test1 print the value of x 20 and print the value of i 2\n",
      "test1 print the value of x 20 and print the value of i 3\n",
      "test1 print the value of x 20 and print the value of i 4\n",
      "test1 print the value of x 20 and print the value of i 5\n",
      "test1 print the value of x 20 and print the value of i 6\n",
      "test1 print the value of x 20 and print the value of i 7\n",
      "test1 print the value of x 20 and print the value of i 8\n",
      "test1 print the value of x 20 and print the value of i 9\n",
      "test1 print the value of x 5 and print the value of i 0\n",
      "test1 print the value of x 5 and print the value of i 1\n",
      "test1 print the value of x 5 and print the value of i 2\n",
      "test1 print the value of x 5 and print the value of i 3\n",
      "test1 print the value of x 5 and print the value of i 4\n",
      "test1 print the value of x 5 and print the value of i 5\n",
      "test1 print the value of x 5 and print the value of i 6\n",
      "test1 print the value of x 5 and print the value of i 7\n",
      "test1 print the value of x 5 and print the value of i 8\n",
      "test1 print the value of x 5 and print the value of i 9\n"
     ]
    }
   ],
   "source": [
    "for t in thread2: #it takes 100 then 10, then 20, then 5; it means it does not complete 1 whole program then start the next, cos when 1 program sleep, it started the 2nd \n",
    "    # if we rfemove this sleep function, then it will run 1 program per time before proceeding the next\n",
    "    t.start()"
   ]
  },
  {
   "cell_type": "code",
   "execution_count": 37,
   "metadata": {},
   "outputs": [
    {
     "data": {
      "text/plain": [
       "[<Thread(Thread-255, initial)>,\n",
       " <Thread(Thread-256, initial)>,\n",
       " <Thread(Thread-257, initial)>,\n",
       " <Thread(Thread-258, initial)>]"
      ]
     },
     "execution_count": 37,
     "metadata": {},
     "output_type": "execute_result"
    }
   ],
   "source": [
    "shared_var=0\n",
    "lock_var=threading.Lock() # create a lock on a resources, so if 1 is using, no one will be using it\n",
    "def test3(x):\n",
    "    global shared_var\n",
    "    with lock_var: \n",
    "        shared_var=shared_var+1\n",
    "        print(\"value of x %d and value of shared_var %d\" %(x,shared_var))\n",
    "        time.sleep(1) # even sleep , the thread will not be working\n",
    "        \n",
    "thread3=[threading.Thread(target=test3,args=(i,))for i in range(1,5)]\n",
    "thread3"
   ]
  },
  {
   "cell_type": "code",
   "execution_count": 34,
   "metadata": {},
   "outputs": [
    {
     "name": "stdout",
     "output_type": "stream",
     "text": [
      "value of x 1 and value of shared_var 1\n"
     ]
    }
   ],
   "source": [
    "test3(1)"
   ]
  },
  {
   "cell_type": "code",
   "execution_count": 35,
   "metadata": {},
   "outputs": [
    {
     "name": "stdout",
     "output_type": "stream",
     "text": [
      "value of x 2 and value of shared_var 2\n"
     ]
    }
   ],
   "source": [
    "test3(2) #each will increase the shared var by 1 each call"
   ]
  },
  {
   "cell_type": "code",
   "execution_count": 38,
   "metadata": {},
   "outputs": [
    {
     "name": "stdout",
     "output_type": "stream",
     "text": [
      "value of x 1 and value of shared_var 1\n"
     ]
    },
    {
     "name": "stdout",
     "output_type": "stream",
     "text": [
      "value of x 2 and value of shared_var 2\n",
      "value of x 3 and value of shared_var 3\n",
      "value of x 4 and value of shared_var 4\n"
     ]
    }
   ],
   "source": [
    "for t in thread3:\n",
    "    t.start()"
   ]
  },
  {
   "cell_type": "code",
   "execution_count": 44,
   "metadata": {},
   "outputs": [
    {
     "name": "stdout",
     "output_type": "stream",
     "text": [
      "value of x 1 and value of shared_var 1value of x 2 and value of shared_var 2\n",
      "\n",
      "value of x 3 and value of shared_var 3\n",
      "value of x 4 and value of shared_var 4\n"
     ]
    }
   ],
   "source": [
    "shared_var=0 \n",
    "def test4(x):\n",
    "    global shared_var\n",
    "    shared_var=shared_var+1\n",
    "    print(\"value of x %d and value of shared_var %d\" %(x,shared_var))\n",
    "    time.sleep(1)# when thread 1 sleepl. thread2 already start\n",
    "        \n",
    "thread4=[threading.Thread(target=test4,args=(i,))for i in range(1,5)]\n",
    "for t in thread4:\n",
    "    t.start()"
   ]
  },
  {
   "cell_type": "code",
   "execution_count": null,
   "metadata": {},
   "outputs": [],
   "source": []
  }
 ],
 "metadata": {
  "kernelspec": {
   "display_name": "base",
   "language": "python",
   "name": "python3"
  },
  "language_info": {
   "codemirror_mode": {
    "name": "ipython",
    "version": 3
   },
   "file_extension": ".py",
   "mimetype": "text/x-python",
   "name": "python",
   "nbconvert_exporter": "python",
   "pygments_lexer": "ipython3",
   "version": "3.9.13"
  }
 },
 "nbformat": 4,
 "nbformat_minor": 2
}
