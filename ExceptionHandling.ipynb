{
 "cells": [
  {
   "cell_type": "code",
   "execution_count": 1,
   "metadata": {},
   "outputs": [
    {
     "ename": "ZeroDivisionError",
     "evalue": "division by zero",
     "output_type": "error",
     "traceback": [
      "\u001b[0;31m---------------------------------------------------------------------------\u001b[0m",
      "\u001b[0;31mZeroDivisionError\u001b[0m                         Traceback (most recent call last)",
      "\u001b[0;32m/var/folders/w7/_4x8q4gx5m9bhtzk0c7gy40c0000gn/T/ipykernel_35814/358941512.py\u001b[0m in \u001b[0;36m<module>\u001b[0;34m\u001b[0m\n\u001b[1;32m      1\u001b[0m \u001b[0ma\u001b[0m\u001b[0;34m=\u001b[0m\u001b[0;36m10\u001b[0m\u001b[0;34m\u001b[0m\u001b[0;34m\u001b[0m\u001b[0m\n\u001b[0;32m----> 2\u001b[0;31m \u001b[0ma\u001b[0m\u001b[0;34m/\u001b[0m\u001b[0;36m0\u001b[0m\u001b[0;34m\u001b[0m\u001b[0;34m\u001b[0m\u001b[0m\n\u001b[0m",
      "\u001b[0;31mZeroDivisionError\u001b[0m: division by zero"
     ]
    }
   ],
   "source": [
    "a=10\n",
    "a/0"
   ]
  },
  {
   "cell_type": "code",
   "execution_count": 4,
   "metadata": {},
   "outputs": [
    {
     "ename": "FileNotFoundError",
     "evalue": "[Errno 2] No such file or directory: 'xj.txt'",
     "output_type": "error",
     "traceback": [
      "\u001b[0;31m---------------------------------------------------------------------------\u001b[0m",
      "\u001b[0;31mFileNotFoundError\u001b[0m                         Traceback (most recent call last)",
      "\u001b[0;32m/var/folders/w7/_4x8q4gx5m9bhtzk0c7gy40c0000gn/T/ipykernel_35814/73575292.py\u001b[0m in \u001b[0;36m<module>\u001b[0;34m\u001b[0m\n\u001b[0;32m----> 1\u001b[0;31m \u001b[0mf\u001b[0m\u001b[0;34m=\u001b[0m\u001b[0mopen\u001b[0m\u001b[0;34m(\u001b[0m\u001b[0;34m'xj.txt'\u001b[0m\u001b[0;34m,\u001b[0m\u001b[0;34m'r'\u001b[0m\u001b[0;34m)\u001b[0m\u001b[0;34m\u001b[0m\u001b[0;34m\u001b[0m\u001b[0m\n\u001b[0m\u001b[1;32m      2\u001b[0m \u001b[0mprint\u001b[0m\u001b[0;34m(\u001b[0m\u001b[0;34m'this is my print'\u001b[0m\u001b[0;34m)\u001b[0m\u001b[0;34m\u001b[0m\u001b[0;34m\u001b[0m\u001b[0m\n",
      "\u001b[0;31mFileNotFoundError\u001b[0m: [Errno 2] No such file or directory: 'xj.txt'"
     ]
    }
   ],
   "source": [
    "f=open('xj.txt','r')\n",
    "print('this is my print')"
   ]
  },
  {
   "cell_type": "code",
   "execution_count": 8,
   "metadata": {},
   "outputs": [
    {
     "name": "stdout",
     "output_type": "stream",
     "text": [
      "there is some issue with my code [Errno 2] No such file or directory: 'xj.txt'\n"
     ]
    },
    {
     "data": {
      "text/plain": [
       "10"
      ]
     },
     "execution_count": 8,
     "metadata": {},
     "output_type": "execute_result"
    }
   ],
   "source": [
    "#make sure in every peices of code, put a exception handling if your code  does not have error\n",
    "try: \n",
    "    f=open('xj.txt','r')\n",
    "except Exception as e:\n",
    "    print('there is some issue with my code',e)\n",
    "a=10\n",
    "a"
   ]
  },
  {
   "cell_type": "code",
   "execution_count": 16,
   "metadata": {},
   "outputs": [
    {
     "name": "stdout",
     "output_type": "stream",
     "text": [
      "this block will execute once try will exceute itself without an exception, \n",
      "meaning gtry execute successfully\n"
     ]
    }
   ],
   "source": [
    "try: \n",
    "    f=open('xj.txt','w')\n",
    "    f.write('this is my msg, 2nd time')\n",
    "\n",
    "except Exception as e:\n",
    "    print('there is some issue with my code',e)\n",
    "else:\n",
    "    f.close()\n",
    "    print('this block will execute once try will exceute itself without an exception, \\nmeaning gtry execute successfully')"
   ]
  },
  {
   "cell_type": "code",
   "execution_count": 17,
   "metadata": {},
   "outputs": [
    {
     "name": "stdout",
     "output_type": "stream",
     "text": [
      "there is some issue with my code [Errno 2] No such file or directory: 'xj1.txt'\n"
     ]
    }
   ],
   "source": [
    "try: \n",
    "    f=open('xj1.txt','r')\n",
    "    f.write('this is my msg, 2nd time')\n",
    "\n",
    "except Exception as e:\n",
    "    print('there is some issue with my code',e)\n",
    "else:\n",
    "    f.close()\n",
    "    print('this block will execute once try will exceute itself without an exception, \\nmeaning gtry execute successfully')"
   ]
  },
  {
   "cell_type": "code",
   "execution_count": 20,
   "metadata": {},
   "outputs": [
    {
     "name": "stdout",
     "output_type": "stream",
     "text": [
      "there is some issue with my code [Errno 2] No such file or directory: 'xj1.txt'\n",
      "\n",
      "this will always execute\n",
      "especially when I connet to a databse, no matter it is successful, we still need to close connection\n"
     ]
    }
   ],
   "source": [
    "try: \n",
    "    f=open('xj1.txt','r')\n",
    "    f.write('this is my msg, 2nd time')\n",
    "\n",
    "except Exception as e:\n",
    "    print('there is some issue with my code',e)\n",
    "else:\n",
    "    f.close()\n",
    "    print('this block will execute once try will exceute itself without an exception, \\nmeaning gtry execute successfully')\n",
    "    \n",
    "finally:\n",
    "    print()\n",
    "    print('this will always execute')\n",
    "    print('especially when I connet to a databse, no matter it is successful, we still need to close connection')"
   ]
  },
  {
   "cell_type": "code",
   "execution_count": null,
   "metadata": {},
   "outputs": [],
   "source": []
  }
 ],
 "metadata": {
  "kernelspec": {
   "display_name": "base",
   "language": "python",
   "name": "python3"
  },
  "language_info": {
   "codemirror_mode": {
    "name": "ipython",
    "version": 3
   },
   "file_extension": ".py",
   "mimetype": "text/x-python",
   "name": "python",
   "nbconvert_exporter": "python",
   "pygments_lexer": "ipython3",
   "version": "3.9.13"
  }
 },
 "nbformat": 4,
 "nbformat_minor": 2
}
