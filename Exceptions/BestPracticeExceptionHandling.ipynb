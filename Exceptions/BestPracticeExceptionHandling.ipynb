{
 "cells": [
  {
   "cell_type": "code",
   "execution_count": null,
   "metadata": {},
   "outputs": [],
   "source": [
    "#use always a specific exception\n",
    "try:\n",
    "    10/0\n",
    "except ZeroDivisionError as e:\n",
    "    print(e)"
   ]
  },
  {
   "cell_type": "code",
   "execution_count": 1,
   "metadata": {},
   "outputs": [
    {
     "name": "stdout",
     "output_type": "stream",
     "text": [
      "division by zero\n"
     ]
    }
   ],
   "source": [
    "#use always a specific exception, not supposed to call a super class\n",
    "try:\n",
    "    10/0\n",
    "except Exception as e:\n",
    "    print(e)"
   ]
  },
  {
   "cell_type": "code",
   "execution_count": 2,
   "metadata": {},
   "outputs": [
    {
     "name": "stdout",
     "output_type": "stream",
     "text": [
      "this is my zero division error handling division by zero\n"
     ]
    }
   ],
   "source": [
    "# print always a valid msg\n",
    "#use always a specific exception\n",
    "try:\n",
    "    10/0\n",
    "except ZeroDivisionError as e:\n",
    "    print('this is my zero division error handling',e)"
   ]
  },
  {
   "cell_type": "code",
   "execution_count": 4,
   "metadata": {},
   "outputs": [],
   "source": [
    "#always try to log\n",
    "#use always a specific exception\n",
    "import logging\n",
    "logging.basicConfig(filename='error.log',level=logging.ERROR,format='%(asctime)s | %(levelname)s| %(message)s')\n",
    "try:\n",
    "    10/0\n",
    "except ZeroDivisionError as e:\n",
    "    logging.error('this is my zero devision error handing: {}'.format(e))"
   ]
  },
  {
   "cell_type": "code",
   "execution_count": 5,
   "metadata": {},
   "outputs": [],
   "source": [
    "#always avoid to write a multiple exception handing \n",
    "try:\n",
    "    10/0\n",
    "except AttributeError as e:\n",
    "    logging.error('this is my attribute error {}'.format(e)) #unnecessary error\n",
    "except FileNotFoundError as e:\n",
    "    logging.error('this is my file not found error{}'.format(e)) #unnecessary error\n",
    "except ZeroDivisionError as e:\n",
    "    logging.error('this is my zero devision error handing: {}'.format(e))"
   ]
  },
  {
   "cell_type": "code",
   "execution_count": null,
   "metadata": {},
   "outputs": [],
   "source": [
    "#always try to prepare a proper documentation of entire codes\n",
    "\n"
   ]
  },
  {
   "cell_type": "code",
   "execution_count": null,
   "metadata": {},
   "outputs": [],
   "source": [
    "#clearnup all the resources\n",
    "try:\n",
    "    with open('test.txt','w')as f:\n",
    "        f.write('this is my msg to file')\n",
    "except FileNotFoundError as e:\n",
    "    logging.error('this is my file not found error{}'.format(e))\n",
    "    \n",
    "finally: #always close it cos it occupy memory/database connection bandwith\n",
    "    f.close()"
   ]
  }
 ],
 "metadata": {
  "kernelspec": {
   "display_name": "base",
   "language": "python",
   "name": "python3"
  },
  "language_info": {
   "codemirror_mode": {
    "name": "ipython",
    "version": 3
   },
   "file_extension": ".py",
   "mimetype": "text/x-python",
   "name": "python",
   "nbconvert_exporter": "python",
   "pygments_lexer": "ipython3",
   "version": "3.9.13"
  }
 },
 "nbformat": 4,
 "nbformat_minor": 2
}
