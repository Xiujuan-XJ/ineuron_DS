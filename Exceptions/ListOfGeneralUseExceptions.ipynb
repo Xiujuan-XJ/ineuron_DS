{
 "cells": [
  {
   "cell_type": "code",
   "execution_count": 1,
   "metadata": {},
   "outputs": [
    {
     "name": "stdout",
     "output_type": "stream",
     "text": [
      "division by zero\n"
     ]
    }
   ],
   "source": [
    "try:\n",
    "    a=10\n",
    "    10/0\n",
    "except ZeroDivisionError as e:\n",
    "    print(e)"
   ]
  },
  {
   "cell_type": "code",
   "execution_count": 2,
   "metadata": {},
   "outputs": [
    {
     "name": "stdout",
     "output_type": "stream",
     "text": [
      "invalid literal for int() with base 10: 'xj'\n"
     ]
    }
   ],
   "source": [
    "try:\n",
    "    int('xj')\n",
    "except (ValueError, TypeError) as e: # put multiple error\n",
    "    print(e)"
   ]
  },
  {
   "cell_type": "code",
   "execution_count": 3,
   "metadata": {},
   "outputs": [
    {
     "name": "stdout",
     "output_type": "stream",
     "text": [
      "this will catch an error\n",
      "invalid literal for int() with base 10: 'xj'\n"
     ]
    }
   ],
   "source": [
    "try:\n",
    "    int('xj')\n",
    "except Exception as e: #if unsure the error\n",
    "    print('this will catch an error')\n",
    "    print(e)"
   ]
  },
  {
   "cell_type": "code",
   "execution_count": 5,
   "metadata": {},
   "outputs": [
    {
     "name": "stdout",
     "output_type": "stream",
     "text": [
      "this will catch an error\n",
      "No module named 'xj'\n"
     ]
    }
   ],
   "source": [
    "#if error occur at the import the package\n",
    "try:\n",
    "    import xj \n",
    "except  ImportError as e: \n",
    "    print('this will catch an error')\n",
    "    print(e)"
   ]
  },
  {
   "cell_type": "code",
   "execution_count": 7,
   "metadata": {},
   "outputs": [
    {
     "name": "stdout",
     "output_type": "stream",
     "text": [
      "'key10'\n"
     ]
    }
   ],
   "source": [
    "#dictionary key error\n",
    "try:\n",
    "    d={1:[3,4,5,6],'key':'value'}\n",
    "    d['key10']\n",
    "except KeyError as e:\n",
    "    print(e)"
   ]
  },
  {
   "cell_type": "code",
   "execution_count": 8,
   "metadata": {},
   "outputs": [
    {
     "name": "stdout",
     "output_type": "stream",
     "text": [
      "'str' object has no attribute 'test'\n"
     ]
    }
   ],
   "source": [
    "try:\n",
    "    'xj'.test()\n",
    "except AttributeError as e:\n",
    "    print(e)"
   ]
  },
  {
   "cell_type": "code",
   "execution_count": 9,
   "metadata": {},
   "outputs": [
    {
     "name": "stdout",
     "output_type": "stream",
     "text": [
      "list index out of range\n"
     ]
    }
   ],
   "source": [
    "# index error\n",
    "try:\n",
    "    l=[1,2,3]\n",
    "    l[10]\n",
    "except IndexError as e:\n",
    "    print(e)"
   ]
  },
  {
   "cell_type": "code",
   "execution_count": 10,
   "metadata": {},
   "outputs": [
    {
     "name": "stdout",
     "output_type": "stream",
     "text": [
      "unsupported operand type(s) for +: 'int' and 'str'\n"
     ]
    }
   ],
   "source": [
    "try: \n",
    "    123+'xj'\n",
    "except TypeError as e:\n",
    "    print(e)"
   ]
  },
  {
   "cell_type": "code",
   "execution_count": 11,
   "metadata": {},
   "outputs": [
    {
     "name": "stdout",
     "output_type": "stream",
     "text": [
      "[Errno 2] No such file or directory: 'xj1'\n"
     ]
    }
   ],
   "source": [
    "#file not found \n",
    "try:\n",
    "    with open('xj1','r') as f:\n",
    "        f.read()\n",
    "except FileNotFoundError as e:\n",
    "    print(e)\n"
   ]
  },
  {
   "cell_type": "code",
   "execution_count": 14,
   "metadata": {},
   "outputs": [
    {
     "name": "stdout",
     "output_type": "stream",
     "text": [
      "[Errno 2] No such file or directory: 'xj1'\n"
     ]
    }
   ],
   "source": [
    "#multiple error file not found \n",
    "try:\n",
    "    with open('xj1','r') as f:\n",
    "        f.read()\n",
    "except Exception as e: \n",
    "    # error is handled here, as it  is a superclass handled here\n",
    "    # never write a superclass in the first place\n",
    "    # should be put after all other exceptions\n",
    "    print(e)\n",
    "except FileNotFoundError as e:\n",
    "    print('this is my file file not found error')"
   ]
  },
  {
   "cell_type": "code",
   "execution_count": 15,
   "metadata": {},
   "outputs": [],
   "source": [
    "#try catch in a function\n",
    "def test():\n",
    "    try:\n",
    "        with open('xj1','r') as f:\n",
    "            f.read()\n",
    "    except Exception as e: \n",
    "        # error is handled here, as it  is a superclass handled here\n",
    "        # never write a superclass in the first place\n",
    "        # should be put after all other exceptions\n",
    "        print(e)\n",
    "    except FileNotFoundError as e:\n",
    "        print('this is my file file not found error')"
   ]
  },
  {
   "cell_type": "code",
   "execution_count": 16,
   "metadata": {},
   "outputs": [
    {
     "name": "stdout",
     "output_type": "stream",
     "text": [
      "[Errno 2] No such file or directory: 'xj1'\n"
     ]
    }
   ],
   "source": [
    "test()"
   ]
  },
  {
   "cell_type": "code",
   "execution_count": null,
   "metadata": {},
   "outputs": [],
   "source": []
  }
 ],
 "metadata": {
  "kernelspec": {
   "display_name": "base",
   "language": "python",
   "name": "python3"
  },
  "language_info": {
   "codemirror_mode": {
    "name": "ipython",
    "version": 3
   },
   "file_extension": ".py",
   "mimetype": "text/x-python",
   "name": "python",
   "nbconvert_exporter": "python",
   "pygments_lexer": "ipython3",
   "version": "3.9.13"
  }
 },
 "nbformat": 4,
 "nbformat_minor": 2
}
